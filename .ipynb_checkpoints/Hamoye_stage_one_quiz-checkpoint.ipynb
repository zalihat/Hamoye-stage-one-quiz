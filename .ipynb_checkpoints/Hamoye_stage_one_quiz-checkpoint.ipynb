{
 "cells": [
  {
   "cell_type": "markdown",
   "metadata": {
    "colab_type": "text",
    "id": "view-in-github"
   },
   "source": [
    "<a href=\"https://colab.research.google.com/github/zalihat/Hamoye-stage-one-quiz/blob/master/Hamoye_stage_one_quiz.ipynb\" target=\"_parent\"><img src=\"https://colab.research.google.com/assets/colab-badge.svg\" alt=\"Open In Colab\"/></a>"
   ]
  },
  {
   "cell_type": "code",
   "execution_count": 1,
   "metadata": {
    "colab": {
     "base_uri": "https://localhost:8080/",
     "height": 72
    },
    "colab_type": "code",
    "id": "u5W3Ihdm9Iam",
    "outputId": "fe0eda62-543b-4da6-8675-4dab6a2ae8ee"
   },
   "outputs": [
    {
     "name": "stderr",
     "output_type": "stream",
     "text": [
      "/usr/local/lib/python3.6/dist-packages/statsmodels/tools/_testing.py:19: FutureWarning: pandas.util.testing is deprecated. Use the functions in the public API at pandas.testing instead.\n",
      "  import pandas.util.testing as tm\n"
     ]
    }
   ],
   "source": [
    "import pandas as pd\n",
    "import numpy as np\n",
    "import matplotlib.pyplot as plt\n",
    "import seaborn as sns"
   ]
  },
  {
   "cell_type": "markdown",
   "metadata": {
    "colab_type": "text",
    "id": "53BGtCnH9hL2"
   },
   "source": [
    "### Upload the dataset to colab"
   ]
  },
  {
   "cell_type": "code",
   "execution_count": 2,
   "metadata": {
    "colab": {},
    "colab_type": "code",
    "id": "EX8bWq6d9NOe"
   },
   "outputs": [],
   "source": [
    "!wget -o data.csv https://raw.githubusercontent.com/WalePhenomenon/climate_change/master/fuel_ferc1.csv"
   ]
  },
  {
   "cell_type": "code",
   "execution_count": 17,
   "metadata": {
    "colab": {},
    "colab_type": "code",
    "id": "edUAepgJ9tlL"
   },
   "outputs": [],
   "source": [
    "try:\n",
    "  fuel_data = pd.read_csv('/content/fuel_ferc1.csv')\n",
    "except OSError as error:\n",
    "  print('Error: ', error)"
   ]
  },
  {
   "cell_type": "code",
   "execution_count": 18,
   "metadata": {
    "colab": {
     "base_uri": "https://localhost:8080/",
     "height": 217
    },
    "colab_type": "code",
    "id": "ThYQAWWb93mx",
    "outputId": "881727b7-d389-4daa-fa20-21057c862d39"
   },
   "outputs": [
    {
     "data": {
      "text/html": [
       "<div>\n",
       "<style scoped>\n",
       "    .dataframe tbody tr th:only-of-type {\n",
       "        vertical-align: middle;\n",
       "    }\n",
       "\n",
       "    .dataframe tbody tr th {\n",
       "        vertical-align: top;\n",
       "    }\n",
       "\n",
       "    .dataframe thead th {\n",
       "        text-align: right;\n",
       "    }\n",
       "</style>\n",
       "<table border=\"1\" class=\"dataframe\">\n",
       "  <thead>\n",
       "    <tr style=\"text-align: right;\">\n",
       "      <th></th>\n",
       "      <th>record_id</th>\n",
       "      <th>utility_id_ferc1</th>\n",
       "      <th>report_year</th>\n",
       "      <th>plant_name_ferc1</th>\n",
       "      <th>fuel_type_code_pudl</th>\n",
       "      <th>fuel_unit</th>\n",
       "      <th>fuel_qty_burned</th>\n",
       "      <th>fuel_mmbtu_per_unit</th>\n",
       "      <th>fuel_cost_per_unit_burned</th>\n",
       "      <th>fuel_cost_per_unit_delivered</th>\n",
       "      <th>fuel_cost_per_mmbtu</th>\n",
       "    </tr>\n",
       "  </thead>\n",
       "  <tbody>\n",
       "    <tr>\n",
       "      <th>29303</th>\n",
       "      <td>f1_fuel_2018_12_145_3_3</td>\n",
       "      <td>145</td>\n",
       "      <td>2018</td>\n",
       "      <td>blue spruce</td>\n",
       "      <td>oil</td>\n",
       "      <td>bbl</td>\n",
       "      <td>1053.0</td>\n",
       "      <td>5.796000</td>\n",
       "      <td>99.210</td>\n",
       "      <td>99.210</td>\n",
       "      <td>17.120</td>\n",
       "    </tr>\n",
       "    <tr>\n",
       "      <th>9269</th>\n",
       "      <td>f1_fuel_2001_12_82_0_11</td>\n",
       "      <td>82</td>\n",
       "      <td>2001</td>\n",
       "      <td>ku park/pineville</td>\n",
       "      <td>coal</td>\n",
       "      <td>ton</td>\n",
       "      <td>57408.0</td>\n",
       "      <td>25.466000</td>\n",
       "      <td>31.565</td>\n",
       "      <td>32.644</td>\n",
       "      <td>1.333</td>\n",
       "    </tr>\n",
       "    <tr>\n",
       "      <th>27288</th>\n",
       "      <td>f1_fuel_2016_12_157_0_10</td>\n",
       "      <td>157</td>\n",
       "      <td>2016</td>\n",
       "      <td>tracy 3</td>\n",
       "      <td>gas</td>\n",
       "      <td>mcf</td>\n",
       "      <td>1065817.0</td>\n",
       "      <td>1.037720</td>\n",
       "      <td>2.676</td>\n",
       "      <td>2.676</td>\n",
       "      <td>2.579</td>\n",
       "    </tr>\n",
       "    <tr>\n",
       "      <th>8003</th>\n",
       "      <td>f1_fuel_2000_12_21_0_1</td>\n",
       "      <td>21</td>\n",
       "      <td>2000</td>\n",
       "      <td>newton</td>\n",
       "      <td>coal</td>\n",
       "      <td>ton</td>\n",
       "      <td>1182129.0</td>\n",
       "      <td>17.618000</td>\n",
       "      <td>19.552</td>\n",
       "      <td>20.353</td>\n",
       "      <td>1.110</td>\n",
       "    </tr>\n",
       "    <tr>\n",
       "      <th>30</th>\n",
       "      <td>f1_fuel_1994_12_7_0_8</td>\n",
       "      <td>7</td>\n",
       "      <td>1994</td>\n",
       "      <td>4 corners</td>\n",
       "      <td>gas</td>\n",
       "      <td>mcf</td>\n",
       "      <td>230205.0</td>\n",
       "      <td>1.015424</td>\n",
       "      <td>2.690</td>\n",
       "      <td>2.690</td>\n",
       "      <td>2.650</td>\n",
       "    </tr>\n",
       "  </tbody>\n",
       "</table>\n",
       "</div>"
      ],
      "text/plain": [
       "                      record_id  ...  fuel_cost_per_mmbtu\n",
       "29303   f1_fuel_2018_12_145_3_3  ...               17.120\n",
       "9269    f1_fuel_2001_12_82_0_11  ...                1.333\n",
       "27288  f1_fuel_2016_12_157_0_10  ...                2.579\n",
       "8003     f1_fuel_2000_12_21_0_1  ...                1.110\n",
       "30        f1_fuel_1994_12_7_0_8  ...                2.650\n",
       "\n",
       "[5 rows x 11 columns]"
      ]
     },
     "execution_count": 18,
     "metadata": {
      "tags": []
     },
     "output_type": "execute_result"
    }
   ],
   "source": [
    "# take a look at the data\n",
    "fuel_data.sample(5)"
   ]
  },
  {
   "cell_type": "code",
   "execution_count": 7,
   "metadata": {
    "colab": {
     "base_uri": "https://localhost:8080/",
     "height": 52
    },
    "colab_type": "code",
    "id": "l1neHKQ8-I6q",
    "outputId": "ff15e9e6-16ad-4772-f5a0-51ada4bc5d55"
   },
   "outputs": [
    {
     "name": "stdout",
     "output_type": "stream",
     "text": [
      "Number of rows: 29523\n",
      "Number of columns:11\n"
     ]
    }
   ],
   "source": [
    "# get the number of rows and clumns in the data\n",
    "print('Number of rows: {}\\nNumber of columns:{}'. format (fuel_data.shape[0], fuel_data.shape[1]))"
   ]
  },
  {
   "cell_type": "markdown",
   "metadata": {
    "colab_type": "text",
    "id": "Jd4F8SY78KzA"
   },
   "source": [
    "# Question one"
   ]
  },
  {
   "cell_type": "markdown",
   "metadata": {
    "colab_type": "text",
    "id": "adeWKA-M-Q4Q"
   },
   "source": [
    "If you’re given two lists:\n",
    "\n",
    "A = [1,2,3,4,5,6], B = [13, 21, 34]\n",
    "\n",
    "The task is to create a list with the elements of A and B in a single dimension with output:\n",
    "\n",
    "A_B =  [1,2,3,4,5,6,13, 21, 34]\n",
    "\n",
    "Which of the following option is the best way to create this list"
   ]
  },
  {
   "cell_type": "code",
   "execution_count": 50,
   "metadata": {
    "colab": {
     "base_uri": "https://localhost:8080/",
     "height": 34
    },
    "colab_type": "code",
    "id": "LSQ10lSb8Jfr",
    "outputId": "83788c90-261d-4f84-cb54-d653e10abf64"
   },
   "outputs": [
    {
     "data": {
      "text/plain": [
       "[1, 2, 3, 4, 5, 6, 13, 21, 34]"
      ]
     },
     "execution_count": 50,
     "metadata": {
      "tags": []
     },
     "output_type": "execute_result"
    }
   ],
   "source": [
    "A = [1,2,3,4,5,6]\n",
    "B = [13, 21, 34]\n",
    "\n",
    "A.extend(B)\n",
    "A_B = A\n",
    "A_B "
   ]
  },
  {
   "cell_type": "markdown",
   "metadata": {
    "colab_type": "text",
    "id": "vfiE3Vcr8Wxr"
   },
   "source": [
    "# Question two\n",
    "### How do you create an identity matrix in python?\n"
   ]
  },
  {
   "cell_type": "markdown",
   "metadata": {
    "colab_type": "text",
    "id": "wvLBjFoi8fRd"
   },
   "source": [
    "An identity matrix can be created using the numpy's function identity(). The function takes the dimenson of the square matrix as input and returns an identity matrix of that size.\n",
    "\n",
    "\n",
    "\n",
    "\n"
   ]
  },
  {
   "cell_type": "code",
   "execution_count": 51,
   "metadata": {
    "colab": {
     "base_uri": "https://localhost:8080/",
     "height": 70
    },
    "colab_type": "code",
    "id": "Id2gCCKw8dBg",
    "outputId": "666cd056-defb-4ab7-e8e6-e4903513494f"
   },
   "outputs": [
    {
     "data": {
      "text/plain": [
       "array([[1., 0., 0.],\n",
       "       [0., 1., 0.],\n",
       "       [0., 0., 1.]])"
      ]
     },
     "execution_count": 51,
     "metadata": {
      "tags": []
     },
     "output_type": "execute_result"
    }
   ],
   "source": [
    "np.identity(3)"
   ]
  },
  {
   "cell_type": "markdown",
   "metadata": {
    "colab_type": "text",
    "id": "iBxJiycb8uYo"
   },
   "source": [
    "# Question Three\n",
    "Which of the following fuel type code has the lowest average fuel cost per unit burned?\n",
    "\n",
    "\n",
    "\n"
   ]
  },
  {
   "cell_type": "code",
   "execution_count": 8,
   "metadata": {
    "colab": {
     "base_uri": "https://localhost:8080/",
     "height": 70
    },
    "colab_type": "code",
    "id": "RsezQSoCF7eG",
    "outputId": "853a916d-77aa-470e-ff0f-91161d0a744e"
   },
   "outputs": [
    {
     "data": {
      "text/plain": [
       "fuel_type_code_pudl\n",
       "gas    13.659397\n",
       "Name: fuel_cost_per_unit_burned, dtype: float64"
      ]
     },
     "execution_count": 8,
     "metadata": {
      "tags": []
     },
     "output_type": "execute_result"
    }
   ],
   "source": [
    "\n",
    "fuel_data.groupby('fuel_type_code_pudl')['fuel_cost_per_unit_burned'].mean().sort_values(ascending = True)[:1]"
   ]
  },
  {
   "cell_type": "markdown",
   "metadata": {
    "colab_type": "text",
    "id": "eb2ppNzdHIDR"
   },
   "source": [
    "# Question Four\n",
    "What is the standard deviation and 75th percentile of the measure of energy per unit (Fuel_mmbtu_per_unit) in two decimal places?\n",
    "\n",
    "\n",
    "\n"
   ]
  },
  {
   "cell_type": "code",
   "execution_count": 10,
   "metadata": {
    "colab": {},
    "colab_type": "code",
    "id": "2dSJoS1VHJOh"
   },
   "outputs": [],
   "source": [
    "# Get the values of the fuel_mmbtu_per_unit column\n",
    "fuel_mmbtu_per_unit_values = fuel_data.fuel_mmbtu_per_unit.values "
   ]
  },
  {
   "cell_type": "code",
   "execution_count": 11,
   "metadata": {
    "colab": {
     "base_uri": "https://localhost:8080/",
     "height": 52
    },
    "colab_type": "code",
    "id": "HK-a2jUuHWTc",
    "outputId": "c72496c2-8be4-4636-c5e2-bbb31dd3f385"
   },
   "outputs": [
    {
     "name": "stdout",
     "output_type": "stream",
     "text": [
      "Standard Deviation: 10.60\n",
      "75th percentile: 17.01\n"
     ]
    }
   ],
   "source": [
    "# calculate the standard deviation and 75th percentile of the feature \n",
    "fuel_mmbtu_per_unit_SD = np.std(fuel_mmbtu_per_unit_values)\n",
    "fuel_mmbtu_per_unit_75th_percentile = np.percentile(fuel_mmbtu_per_unit_values, 75)\n",
    "\n",
    "print('Standard Deviation: %.2F' %(fuel_mmbtu_per_unit_SD))\n",
    "print('75th percentile: %.2F' %(fuel_mmbtu_per_unit_75th_percentile))"
   ]
  },
  {
   "cell_type": "markdown",
   "metadata": {
    "colab_type": "text",
    "id": "TmpJGM2xIXLn"
   },
   "source": [
    "# Question Five\n",
    "What is the skewness and kurtosis for the fuel quantity burned in two decimal places?"
   ]
  },
  {
   "cell_type": "code",
   "execution_count": 59,
   "metadata": {
    "colab": {
     "base_uri": "https://localhost:8080/",
     "height": 52
    },
    "colab_type": "code",
    "id": "7C277ajiHkqL",
    "outputId": "bfeb246d-ff4c-4469-a296-19ad9364ff68"
   },
   "outputs": [
    {
     "name": "stdout",
     "output_type": "stream",
     "text": [
      "kurtosis of fuel quality burnt : 651.37\n",
      "skewness of fuel quality burnt : 15.85\n"
     ]
    }
   ],
   "source": [
    "kurtosis_fuel_qty_burnt  = fuel_data.fuel_qty_burned.kurtosis()\n",
    "skewness_fuel_qty_burnt  = fuel_data.fuel_qty_burned.skew()\n",
    "\n",
    "print( 'kurtosis of fuel quality burnt : %.2F' %(kurtosis_fuel_qty_burnt ))\n",
    "print( 'skewness of fuel quality burnt : %.2F' %(skewness_fuel_qty_burnt ))"
   ]
  },
  {
   "cell_type": "markdown",
   "metadata": {
    "colab_type": "text",
    "id": "wUtcjCj8Jxk2"
   },
   "source": [
    "# Question Six\n",
    "Which feature has missing values and what is the total number of missing value and percentage of the missing rows as a factor of the total number of rows in three decimal places? \n",
    "\n",
    "(Enter answer in the format: Feature: xxx, Total: xxx, Percent: xxx)"
   ]
  },
  {
   "cell_type": "code",
   "execution_count": 12,
   "metadata": {
    "colab": {},
    "colab_type": "code",
    "id": "a_pCFptWJ4wG"
   },
   "outputs": [],
   "source": [
    "# the feature with missing values\n",
    "feature = fuel_data.columns[fuel_data.isnull().any()]\n",
    "feature = str(feature[0])"
   ]
  },
  {
   "cell_type": "code",
   "execution_count": 13,
   "metadata": {
    "colab": {
     "base_uri": "https://localhost:8080/",
     "height": 34
    },
    "colab_type": "code",
    "id": "3fukYUwPKDk5",
    "outputId": "212b9b6f-02ce-4a3e-943b-bd230084a2f9"
   },
   "outputs": [
    {
     "data": {
      "text/plain": [
       "180"
      ]
     },
     "execution_count": 13,
     "metadata": {
      "tags": []
     },
     "output_type": "execute_result"
    }
   ],
   "source": [
    "# calculate the total number of missing rows\n",
    "total_missing = fuel_data.isnull().sum().sum()\n",
    "total_missing"
   ]
  },
  {
   "cell_type": "code",
   "execution_count": 14,
   "metadata": {
    "colab": {
     "base_uri": "https://localhost:8080/",
     "height": 34
    },
    "colab_type": "code",
    "id": "yEAICLkhKjnO",
    "outputId": "9a91a71c-2683-46ae-ce0b-e5b0573e3e5a"
   },
   "outputs": [
    {
     "data": {
      "text/plain": [
       "29523"
      ]
     },
     "execution_count": 14,
     "metadata": {
      "tags": []
     },
     "output_type": "execute_result"
    }
   ],
   "source": [
    "# find the total number of rows\n",
    "total_rows = fuel_data.shape[0]\n",
    "total_rows"
   ]
  },
  {
   "cell_type": "code",
   "execution_count": 15,
   "metadata": {
    "colab": {
     "base_uri": "https://localhost:8080/",
     "height": 34
    },
    "colab_type": "code",
    "id": "_4cffz-vV5Gb",
    "outputId": "b6052f31-5ecf-4984-8e27-074e39108f8a"
   },
   "outputs": [
    {
     "data": {
      "text/plain": [
       "0.609694136774718"
      ]
     },
     "execution_count": 15,
     "metadata": {
      "tags": []
     },
     "output_type": "execute_result"
    }
   ],
   "source": [
    "# calculate the percentage of missing rows as a factor of the total rows\n",
    "percentage = (total_missing/total_rows) * 100\n",
    "percentage"
   ]
  },
  {
   "cell_type": "code",
   "execution_count": 75,
   "metadata": {
    "colab": {
     "base_uri": "https://localhost:8080/",
     "height": 70
    },
    "colab_type": "code",
    "id": "nBBm434iVRwI",
    "outputId": "25822e82-4f93-412b-9ea0-f9c2dc35f80d"
   },
   "outputs": [
    {
     "name": "stdout",
     "output_type": "stream",
     "text": [
      "Feature that has missing values: fuel_unit\n",
      "Total: 180\n",
      "Percentage of missing values: 0.610\n"
     ]
    }
   ],
   "source": [
    "print ('Feature that has missing values: {}\\nTotal: {}'.format(feature, total))\n",
    "print('Percentage of missing values: %.3F' %percentage)"
   ]
  },
  {
   "cell_type": "markdown",
   "metadata": {
    "colab_type": "text",
    "id": "wymTcuUILKPl"
   },
   "source": [
    "# Question Seven\n",
    "The feature with missing values falls under what category? What missing value imputation technique would you use?"
   ]
  },
  {
   "cell_type": "code",
   "execution_count": 16,
   "metadata": {
    "colab": {
     "base_uri": "https://localhost:8080/",
     "height": 34
    },
    "colab_type": "code",
    "id": "ep6V1SF8LMtd",
    "outputId": "b941e638-7a79-4b4d-85b2-a988f92addab"
   },
   "outputs": [
    {
     "data": {
      "text/plain": [
       "Index(['fuel_unit'], dtype='object')"
      ]
     },
     "execution_count": 16,
     "metadata": {
      "tags": []
     },
     "output_type": "execute_result"
    }
   ],
   "source": [
    "# find the feature with missing values\n",
    "fuel_data.columns[fuel_data.isnull().any()]\n"
   ]
  },
  {
   "cell_type": "code",
   "execution_count": 82,
   "metadata": {
    "colab": {
     "base_uri": "https://localhost:8080/",
     "height": 52
    },
    "colab_type": "code",
    "id": "XlRnZnk5LWLJ",
    "outputId": "f0bd6f63-6c24-4151-9bb2-d09ed8ba530e"
   },
   "outputs": [
    {
     "data": {
      "text/plain": [
       "array(['ton', 'mcf', 'kgU', 'bbl', 'gramsU', nan, 'mwdth', 'mmbtu',\n",
       "       'mwhth', 'gal'], dtype=object)"
      ]
     },
     "execution_count": 82,
     "metadata": {
      "tags": []
     },
     "output_type": "execute_result"
    }
   ],
   "source": [
    "# find the unique values in the feature to know the type of which category it falls under\n",
    "fuel_data.fuel_unit.unique()"
   ]
  },
  {
   "cell_type": "markdown",
   "metadata": {
    "colab_type": "text",
    "id": "R7KpuPsmhyn_"
   },
   "source": [
    "From the previous cell it can be seen that the feature contains categorical values. the mode imputation technique will be used to fill the missing data as shown in the cell below."
   ]
  },
  {
   "cell_type": "code",
   "execution_count": 86,
   "metadata": {
    "colab": {},
    "colab_type": "code",
    "id": "cAKg_2NRLbOE"
   },
   "outputs": [],
   "source": [
    "fuel_unit_mode = fuel_data.fuel_unit.mode()"
   ]
  },
  {
   "cell_type": "code",
   "execution_count": null,
   "metadata": {
    "colab": {},
    "colab_type": "code",
    "id": "nTnX3ZoVYgWM"
   },
   "outputs": [],
   "source": [
    "# fill the missing values with the features's mode\n",
    "fuel_data['fuel_unit'].fillna(fuel_unit_mode, inplace = True)"
   ]
  },
  {
   "cell_type": "markdown",
   "metadata": {
    "colab_type": "text",
    "id": "GAMOwOvzLw76"
   },
   "source": [
    "# Question 8\n",
    "Which of the features has the second and third lowest correlation with the Fuel Cost Per Unit Burned?"
   ]
  },
  {
   "cell_type": "markdown",
   "metadata": {
    "colab_type": "text",
    "id": "FwaQySF7dZbN"
   },
   "source": [
    "\n",
    "\n",
    "1. calculate the correlation of fuel cost per unit burnt against all other features.\n",
    "2. Sort the resulting series in ascending order. \n",
    "\n",
    "3.  select the features with the second and third lowest correlation\n",
    "\n"
   ]
  },
  {
   "cell_type": "code",
   "execution_count": 42,
   "metadata": {
    "colab": {
     "base_uri": "https://localhost:8080/",
     "height": 70
    },
    "colab_type": "code",
    "id": "l72U4m-8LyvA",
    "outputId": "05e39301-2e41-4329-9f16-82c9471d9bdf"
   },
   "outputs": [
    {
     "data": {
      "text/plain": [
       "fuel_qty_burned       -0.018535\n",
       "fuel_mmbtu_per_unit   -0.010034\n",
       "Name: fuel_cost_per_unit_burned, dtype: float64"
      ]
     },
     "execution_count": 42,
     "metadata": {
      "tags": []
     },
     "output_type": "execute_result"
    }
   ],
   "source": [
    "\n",
    "fuel_data.corr()['fuel_cost_per_unit_burned'].sort_values(ascending = True)[1:3]"
   ]
  },
  {
   "cell_type": "markdown",
   "metadata": {
    "colab_type": "text",
    "id": "p8hdrZkwMjiR"
   },
   "source": [
    "# Question 9\n",
    "For the fuel type coal, what is the percentage change in the fuel cost per unit burned in 1998 compared to 1994"
   ]
  },
  {
   "cell_type": "code",
   "execution_count": 93,
   "metadata": {
    "colab": {
     "base_uri": "https://localhost:8080/",
     "height": 34
    },
    "colab_type": "code",
    "id": "ZATGyqlJMlrp",
    "outputId": "2c0a324d-8ad7-4b2c-86d2-5842eadb914c"
   },
   "outputs": [
    {
     "name": "stdout",
     "output_type": "stream",
     "text": [
      "percentage change in the fuel cost per unit burned in 1998 compared to 1994: -21.0%\n"
     ]
    }
   ],
   "source": [
    "# get the columns with fuel type coal and report year 1994 and 1998\n",
    "\n",
    "coal_data_1998 = fuel_data.loc[(fuel_data.fuel_type_code_pudl == 'coal') & (fuel_data.report_year == 1998)]\n",
    "coal_data_1994 = fuel_data.loc[(fuel_data['fuel_type_code_pudl'] == 'coal') & (fuel_data['report_year'] == 1994)]\n",
    "\n",
    "# get the sum of the fuel cost per unit burned in 1998 and 1994\n",
    "coal_1994_sum = coal_data_1994.fuel_cost_per_unit_burned.sum()\n",
    "coal_1998_sum = coal_data_1998.fuel_cost_per_unit_burned.sum()\n",
    "\n",
    "# calculate the percentage change in the fuel cost per unit burnt between 1998 compared to 1994\n",
    "percentage = (coal_1998_sum - coal_1994_sum) / coal_1994_sum * 100\n",
    "\n",
    "print(\"percentage change in the fuel cost per unit burned in 1998 compared to 1994: {}%\" .format(round(percentage)))\n"
   ]
  },
  {
   "cell_type": "markdown",
   "metadata": {
    "colab_type": "text",
    "id": "_kRnCLozM0Pg"
   },
   "source": [
    "# Question 10\n",
    "Which year has the highest average fuel cost per unit delivered?"
   ]
  },
  {
   "cell_type": "markdown",
   "metadata": {
    "colab_type": "text",
    "id": "XsAsKgfids6V"
   },
   "source": [
    "\n",
    "\n",
    "\n",
    "\n",
    "\n",
    "1. Group the fuel data by report year\n",
    "2. Get the fuel cost per unit delivered and calculate the mean.\n",
    "3. Sort the resulting series in descending order and select the first row\n",
    "\n"
   ]
  },
  {
   "cell_type": "code",
   "execution_count": 19,
   "metadata": {
    "colab": {
     "base_uri": "https://localhost:8080/",
     "height": 70
    },
    "colab_type": "code",
    "id": "DdYutm7-M2Fw",
    "outputId": "60fb0c86-6693-4f66-eaae-fa9cbcec28ff"
   },
   "outputs": [
    {
     "data": {
      "text/plain": [
       "report_year\n",
       "1997    11140.197239\n",
       "Name: fuel_cost_per_unit_delivered, dtype: float64"
      ]
     },
     "execution_count": 19,
     "metadata": {
      "tags": []
     },
     "output_type": "execute_result"
    }
   ],
   "source": [
    "fuel_data.groupby('report_year')['fuel_cost_per_unit_delivered'].mean().sort_values(ascending =False)[:1]"
   ]
  },
  {
   "cell_type": "code",
   "execution_count": null,
   "metadata": {
    "colab": {},
    "colab_type": "code",
    "id": "f5FRDZckir4J"
   },
   "outputs": [],
   "source": []
  }
 ],
 "metadata": {
  "colab": {
   "authorship_tag": "ABX9TyNlm9ygT5f6v6E38lcZwsoZ",
   "include_colab_link": true,
   "name": "Hamoye-stage-one-quiz.ipynb",
   "provenance": []
  },
  "kernelspec": {
   "display_name": "Python 3",
   "language": "python",
   "name": "python3"
  },
  "language_info": {
   "codemirror_mode": {
    "name": "ipython",
    "version": 3
   },
   "file_extension": ".py",
   "mimetype": "text/x-python",
   "name": "python",
   "nbconvert_exporter": "python",
   "pygments_lexer": "ipython3",
   "version": "3.8.2"
  }
 },
 "nbformat": 4,
 "nbformat_minor": 1
}
