{
  "nbformat": 4,
  "nbformat_minor": 0,
  "metadata": {
    "colab": {
      "name": "Hamoye-stage-one-quiz.ipynb",
      "provenance": [],
      "authorship_tag": "ABX9TyNlm9ygT5f6v6E38lcZwsoZ",
      "include_colab_link": true
    },
    "kernelspec": {
      "name": "python3",
      "display_name": "Python 3"
    }
  },
  "cells": [
    {
      "cell_type": "markdown",
      "metadata": {
        "id": "view-in-github",
        "colab_type": "text"
      },
      "source": [
        "<a href=\"https://colab.research.google.com/github/zalihat/Hamoye-stage-one-quiz/blob/master/Hamoye_stage_one_quiz.ipynb\" target=\"_parent\"><img src=\"https://colab.research.google.com/assets/colab-badge.svg\" alt=\"Open In Colab\"/></a>"
      ]
    },
    {
      "cell_type": "code",
      "metadata": {
        "id": "u5W3Ihdm9Iam",
        "colab_type": "code",
        "colab": {
          "base_uri": "https://localhost:8080/",
          "height": 72
        },
        "outputId": "fe0eda62-543b-4da6-8675-4dab6a2ae8ee"
      },
      "source": [
        "import pandas as pd\n",
        "import numpy as np\n",
        "import matplotlib.pyplot as plt\n",
        "import seaborn as sns"
      ],
      "execution_count": 1,
      "outputs": [
        {
          "output_type": "stream",
          "text": [
            "/usr/local/lib/python3.6/dist-packages/statsmodels/tools/_testing.py:19: FutureWarning: pandas.util.testing is deprecated. Use the functions in the public API at pandas.testing instead.\n",
            "  import pandas.util.testing as tm\n"
          ],
          "name": "stderr"
        }
      ]
    },
    {
      "cell_type": "markdown",
      "metadata": {
        "id": "53BGtCnH9hL2",
        "colab_type": "text"
      },
      "source": [
        "### Upload the dataset to colab"
      ]
    },
    {
      "cell_type": "code",
      "metadata": {
        "id": "EX8bWq6d9NOe",
        "colab_type": "code",
        "colab": {}
      },
      "source": [
        "!wget -o data.csv https://raw.githubusercontent.com/WalePhenomenon/climate_change/master/fuel_ferc1.csv"
      ],
      "execution_count": 2,
      "outputs": []
    },
    {
      "cell_type": "code",
      "metadata": {
        "id": "edUAepgJ9tlL",
        "colab_type": "code",
        "colab": {}
      },
      "source": [
        "try:\n",
        "  fuel_data = pd.read_csv('/content/fuel_ferc1.csv')\n",
        "except OSError as error:\n",
        "  print('Error: ', error)"
      ],
      "execution_count": 17,
      "outputs": []
    },
    {
      "cell_type": "code",
      "metadata": {
        "id": "ThYQAWWb93mx",
        "colab_type": "code",
        "colab": {
          "base_uri": "https://localhost:8080/",
          "height": 217
        },
        "outputId": "881727b7-d389-4daa-fa20-21057c862d39"
      },
      "source": [
        "# take a look at the data\n",
        "fuel_data.sample(5)"
      ],
      "execution_count": 18,
      "outputs": [
        {
          "output_type": "execute_result",
          "data": {
            "text/html": [
              "<div>\n",
              "<style scoped>\n",
              "    .dataframe tbody tr th:only-of-type {\n",
              "        vertical-align: middle;\n",
              "    }\n",
              "\n",
              "    .dataframe tbody tr th {\n",
              "        vertical-align: top;\n",
              "    }\n",
              "\n",
              "    .dataframe thead th {\n",
              "        text-align: right;\n",
              "    }\n",
              "</style>\n",
              "<table border=\"1\" class=\"dataframe\">\n",
              "  <thead>\n",
              "    <tr style=\"text-align: right;\">\n",
              "      <th></th>\n",
              "      <th>record_id</th>\n",
              "      <th>utility_id_ferc1</th>\n",
              "      <th>report_year</th>\n",
              "      <th>plant_name_ferc1</th>\n",
              "      <th>fuel_type_code_pudl</th>\n",
              "      <th>fuel_unit</th>\n",
              "      <th>fuel_qty_burned</th>\n",
              "      <th>fuel_mmbtu_per_unit</th>\n",
              "      <th>fuel_cost_per_unit_burned</th>\n",
              "      <th>fuel_cost_per_unit_delivered</th>\n",
              "      <th>fuel_cost_per_mmbtu</th>\n",
              "    </tr>\n",
              "  </thead>\n",
              "  <tbody>\n",
              "    <tr>\n",
              "      <th>29303</th>\n",
              "      <td>f1_fuel_2018_12_145_3_3</td>\n",
              "      <td>145</td>\n",
              "      <td>2018</td>\n",
              "      <td>blue spruce</td>\n",
              "      <td>oil</td>\n",
              "      <td>bbl</td>\n",
              "      <td>1053.0</td>\n",
              "      <td>5.796000</td>\n",
              "      <td>99.210</td>\n",
              "      <td>99.210</td>\n",
              "      <td>17.120</td>\n",
              "    </tr>\n",
              "    <tr>\n",
              "      <th>9269</th>\n",
              "      <td>f1_fuel_2001_12_82_0_11</td>\n",
              "      <td>82</td>\n",
              "      <td>2001</td>\n",
              "      <td>ku park/pineville</td>\n",
              "      <td>coal</td>\n",
              "      <td>ton</td>\n",
              "      <td>57408.0</td>\n",
              "      <td>25.466000</td>\n",
              "      <td>31.565</td>\n",
              "      <td>32.644</td>\n",
              "      <td>1.333</td>\n",
              "    </tr>\n",
              "    <tr>\n",
              "      <th>27288</th>\n",
              "      <td>f1_fuel_2016_12_157_0_10</td>\n",
              "      <td>157</td>\n",
              "      <td>2016</td>\n",
              "      <td>tracy 3</td>\n",
              "      <td>gas</td>\n",
              "      <td>mcf</td>\n",
              "      <td>1065817.0</td>\n",
              "      <td>1.037720</td>\n",
              "      <td>2.676</td>\n",
              "      <td>2.676</td>\n",
              "      <td>2.579</td>\n",
              "    </tr>\n",
              "    <tr>\n",
              "      <th>8003</th>\n",
              "      <td>f1_fuel_2000_12_21_0_1</td>\n",
              "      <td>21</td>\n",
              "      <td>2000</td>\n",
              "      <td>newton</td>\n",
              "      <td>coal</td>\n",
              "      <td>ton</td>\n",
              "      <td>1182129.0</td>\n",
              "      <td>17.618000</td>\n",
              "      <td>19.552</td>\n",
              "      <td>20.353</td>\n",
              "      <td>1.110</td>\n",
              "    </tr>\n",
              "    <tr>\n",
              "      <th>30</th>\n",
              "      <td>f1_fuel_1994_12_7_0_8</td>\n",
              "      <td>7</td>\n",
              "      <td>1994</td>\n",
              "      <td>4 corners</td>\n",
              "      <td>gas</td>\n",
              "      <td>mcf</td>\n",
              "      <td>230205.0</td>\n",
              "      <td>1.015424</td>\n",
              "      <td>2.690</td>\n",
              "      <td>2.690</td>\n",
              "      <td>2.650</td>\n",
              "    </tr>\n",
              "  </tbody>\n",
              "</table>\n",
              "</div>"
            ],
            "text/plain": [
              "                      record_id  ...  fuel_cost_per_mmbtu\n",
              "29303   f1_fuel_2018_12_145_3_3  ...               17.120\n",
              "9269    f1_fuel_2001_12_82_0_11  ...                1.333\n",
              "27288  f1_fuel_2016_12_157_0_10  ...                2.579\n",
              "8003     f1_fuel_2000_12_21_0_1  ...                1.110\n",
              "30        f1_fuel_1994_12_7_0_8  ...                2.650\n",
              "\n",
              "[5 rows x 11 columns]"
            ]
          },
          "metadata": {
            "tags": []
          },
          "execution_count": 18
        }
      ]
    },
    {
      "cell_type": "code",
      "metadata": {
        "id": "l1neHKQ8-I6q",
        "colab_type": "code",
        "colab": {
          "base_uri": "https://localhost:8080/",
          "height": 52
        },
        "outputId": "ff15e9e6-16ad-4772-f5a0-51ada4bc5d55"
      },
      "source": [
        "# get the number of rows and clumns in the data\n",
        "print('Number of rows: {}\\nNumber of columns:{}'. format (fuel_data.shape[0], fuel_data.shape[1]))"
      ],
      "execution_count": 7,
      "outputs": [
        {
          "output_type": "stream",
          "text": [
            "Number of rows: 29523\n",
            "Number of columns:11\n"
          ],
          "name": "stdout"
        }
      ]
    },
    {
      "cell_type": "markdown",
      "metadata": {
        "id": "Jd4F8SY78KzA",
        "colab_type": "text"
      },
      "source": [
        "# Question one"
      ]
    },
    {
      "cell_type": "markdown",
      "metadata": {
        "id": "adeWKA-M-Q4Q",
        "colab_type": "text"
      },
      "source": [
        "If you’re given two lists:\n",
        "\n",
        "A = [1,2,3,4,5,6], B = [13, 21, 34]\n",
        "\n",
        "The task is to create a list with the elements of A and B in a single dimension with output:\n",
        "\n",
        "A_B =  [1,2,3,4,5,6,13, 21, 34]\n",
        "\n",
        "Which of the following option is the best way to create this list"
      ]
    },
    {
      "cell_type": "code",
      "metadata": {
        "id": "LSQ10lSb8Jfr",
        "colab_type": "code",
        "colab": {
          "base_uri": "https://localhost:8080/",
          "height": 34
        },
        "outputId": "83788c90-261d-4f84-cb54-d653e10abf64"
      },
      "source": [
        "A = [1,2,3,4,5,6]\n",
        "B = [13, 21, 34]\n",
        "\n",
        "A.extend(B)\n",
        "A_B = A\n",
        "A_B "
      ],
      "execution_count": 50,
      "outputs": [
        {
          "output_type": "execute_result",
          "data": {
            "text/plain": [
              "[1, 2, 3, 4, 5, 6, 13, 21, 34]"
            ]
          },
          "metadata": {
            "tags": []
          },
          "execution_count": 50
        }
      ]
    },
    {
      "cell_type": "markdown",
      "metadata": {
        "id": "vfiE3Vcr8Wxr",
        "colab_type": "text"
      },
      "source": [
        "# Question two\n",
        "### How do you create an identity matrix in python?\n"
      ]
    },
    {
      "cell_type": "markdown",
      "metadata": {
        "id": "wvLBjFoi8fRd",
        "colab_type": "text"
      },
      "source": [
        "An identity matrix can be created using the numpy's function identity(). The function takes the dimenson of the square matrix as input and returns an identity matrix of that size.\n",
        "\n",
        "\n",
        "\n",
        "\n"
      ]
    },
    {
      "cell_type": "code",
      "metadata": {
        "id": "Id2gCCKw8dBg",
        "colab_type": "code",
        "colab": {
          "base_uri": "https://localhost:8080/",
          "height": 70
        },
        "outputId": "666cd056-defb-4ab7-e8e6-e4903513494f"
      },
      "source": [
        "np.identity(3)"
      ],
      "execution_count": 51,
      "outputs": [
        {
          "output_type": "execute_result",
          "data": {
            "text/plain": [
              "array([[1., 0., 0.],\n",
              "       [0., 1., 0.],\n",
              "       [0., 0., 1.]])"
            ]
          },
          "metadata": {
            "tags": []
          },
          "execution_count": 51
        }
      ]
    },
    {
      "cell_type": "markdown",
      "metadata": {
        "id": "iBxJiycb8uYo",
        "colab_type": "text"
      },
      "source": [
        "# Question Three\n",
        "Which of the following fuel type code has the lowest average fuel cost per unit burned?\n",
        "\n",
        "\n",
        "\n"
      ]
    },
    {
      "cell_type": "code",
      "metadata": {
        "id": "RsezQSoCF7eG",
        "colab_type": "code",
        "colab": {
          "base_uri": "https://localhost:8080/",
          "height": 70
        },
        "outputId": "853a916d-77aa-470e-ff0f-91161d0a744e"
      },
      "source": [
        "\n",
        "fuel_data.groupby('fuel_type_code_pudl')['fuel_cost_per_unit_burned'].mean().sort_values(ascending = True)[:1]"
      ],
      "execution_count": 8,
      "outputs": [
        {
          "output_type": "execute_result",
          "data": {
            "text/plain": [
              "fuel_type_code_pudl\n",
              "gas    13.659397\n",
              "Name: fuel_cost_per_unit_burned, dtype: float64"
            ]
          },
          "metadata": {
            "tags": []
          },
          "execution_count": 8
        }
      ]
    },
    {
      "cell_type": "markdown",
      "metadata": {
        "id": "eb2ppNzdHIDR",
        "colab_type": "text"
      },
      "source": [
        "# Question Four\n",
        "What is the standard deviation and 75th percentile of the measure of energy per unit (Fuel_mmbtu_per_unit) in two decimal places?\n",
        "\n",
        "\n",
        "\n"
      ]
    },
    {
      "cell_type": "code",
      "metadata": {
        "id": "2dSJoS1VHJOh",
        "colab_type": "code",
        "colab": {}
      },
      "source": [
        "# Get the values of the fuel_mmbtu_per_unit column\n",
        "fuel_mmbtu_per_unit_values = fuel_data.fuel_mmbtu_per_unit.values "
      ],
      "execution_count": 10,
      "outputs": []
    },
    {
      "cell_type": "code",
      "metadata": {
        "id": "HK-a2jUuHWTc",
        "colab_type": "code",
        "colab": {
          "base_uri": "https://localhost:8080/",
          "height": 52
        },
        "outputId": "c72496c2-8be4-4636-c5e2-bbb31dd3f385"
      },
      "source": [
        "# calculate the standard deviation and 75th percentile of the feature \n",
        "fuel_mmbtu_per_unit_SD = np.std(fuel_mmbtu_per_unit_values)\n",
        "fuel_mmbtu_per_unit_75th_percentile = np.percentile(fuel_mmbtu_per_unit_values, 75)\n",
        "\n",
        "print('Standard Deviation: %.2F' %(fuel_mmbtu_per_unit_SD))\n",
        "print('75th percentile: %.2F' %(fuel_mmbtu_per_unit_75th_percentile))"
      ],
      "execution_count": 11,
      "outputs": [
        {
          "output_type": "stream",
          "text": [
            "Standard Deviation: 10.60\n",
            "75th percentile: 17.01\n"
          ],
          "name": "stdout"
        }
      ]
    },
    {
      "cell_type": "markdown",
      "metadata": {
        "id": "TmpJGM2xIXLn",
        "colab_type": "text"
      },
      "source": [
        "# Question Five\n",
        "What is the skewness and kurtosis for the fuel quantity burned in two decimal places?"
      ]
    },
    {
      "cell_type": "code",
      "metadata": {
        "id": "7C277ajiHkqL",
        "colab_type": "code",
        "colab": {
          "base_uri": "https://localhost:8080/",
          "height": 52
        },
        "outputId": "bfeb246d-ff4c-4469-a296-19ad9364ff68"
      },
      "source": [
        "kurtosis_fuel_qty_burnt  = fuel_data.fuel_qty_burned.kurtosis()\n",
        "skewness_fuel_qty_burnt  = fuel_data.fuel_qty_burned.skew()\n",
        "\n",
        "print( 'kurtosis of fuel quality burnt : %.2F' %(kurtosis_fuel_qty_burnt ))\n",
        "print( 'skewness of fuel quality burnt : %.2F' %(skewness_fuel_qty_burnt ))"
      ],
      "execution_count": 59,
      "outputs": [
        {
          "output_type": "stream",
          "text": [
            "kurtosis of fuel quality burnt : 651.37\n",
            "skewness of fuel quality burnt : 15.85\n"
          ],
          "name": "stdout"
        }
      ]
    },
    {
      "cell_type": "markdown",
      "metadata": {
        "id": "wUtcjCj8Jxk2",
        "colab_type": "text"
      },
      "source": [
        "# Question Six\n",
        "Which feature has missing values and what is the total number of missing value and percentage of the missing rows as a factor of the total number of rows in three decimal places? \n",
        "\n",
        "(Enter answer in the format: Feature: xxx, Total: xxx, Percent: xxx)"
      ]
    },
    {
      "cell_type": "code",
      "metadata": {
        "id": "a_pCFptWJ4wG",
        "colab_type": "code",
        "colab": {}
      },
      "source": [
        "# the feature with missing values\n",
        "feature = fuel_data.columns[fuel_data.isnull().any()]\n",
        "feature = str(feature[0])"
      ],
      "execution_count": 12,
      "outputs": []
    },
    {
      "cell_type": "code",
      "metadata": {
        "id": "3fukYUwPKDk5",
        "colab_type": "code",
        "colab": {
          "base_uri": "https://localhost:8080/",
          "height": 34
        },
        "outputId": "212b9b6f-02ce-4a3e-943b-bd230084a2f9"
      },
      "source": [
        "# calculate the total number of missing rows\n",
        "total_missing = fuel_data.isnull().sum().sum()\n",
        "total_missing"
      ],
      "execution_count": 13,
      "outputs": [
        {
          "output_type": "execute_result",
          "data": {
            "text/plain": [
              "180"
            ]
          },
          "metadata": {
            "tags": []
          },
          "execution_count": 13
        }
      ]
    },
    {
      "cell_type": "code",
      "metadata": {
        "id": "yEAICLkhKjnO",
        "colab_type": "code",
        "colab": {
          "base_uri": "https://localhost:8080/",
          "height": 34
        },
        "outputId": "9a91a71c-2683-46ae-ce0b-e5b0573e3e5a"
      },
      "source": [
        "# find the total number of rows\n",
        "total_rows = fuel_data.shape[0]\n",
        "total_rows"
      ],
      "execution_count": 14,
      "outputs": [
        {
          "output_type": "execute_result",
          "data": {
            "text/plain": [
              "29523"
            ]
          },
          "metadata": {
            "tags": []
          },
          "execution_count": 14
        }
      ]
    },
    {
      "cell_type": "code",
      "metadata": {
        "id": "_4cffz-vV5Gb",
        "colab_type": "code",
        "colab": {
          "base_uri": "https://localhost:8080/",
          "height": 34
        },
        "outputId": "b6052f31-5ecf-4984-8e27-074e39108f8a"
      },
      "source": [
        "# calculate the percentage of missing rows as a factor of the total rows\n",
        "percentage = (total_missing/total_rows) * 100\n",
        "percentage"
      ],
      "execution_count": 15,
      "outputs": [
        {
          "output_type": "execute_result",
          "data": {
            "text/plain": [
              "0.609694136774718"
            ]
          },
          "metadata": {
            "tags": []
          },
          "execution_count": 15
        }
      ]
    },
    {
      "cell_type": "code",
      "metadata": {
        "id": "nBBm434iVRwI",
        "colab_type": "code",
        "colab": {
          "base_uri": "https://localhost:8080/",
          "height": 70
        },
        "outputId": "25822e82-4f93-412b-9ea0-f9c2dc35f80d"
      },
      "source": [
        "print ('Feature that has missing values: {}\\nTotal: {}'.format(feature, total))\n",
        "print('Percentage of missing values: %.3F' %percentage)"
      ],
      "execution_count": 75,
      "outputs": [
        {
          "output_type": "stream",
          "text": [
            "Feature that has missing values: fuel_unit\n",
            "Total: 180\n",
            "Percentage of missing values: 0.610\n"
          ],
          "name": "stdout"
        }
      ]
    },
    {
      "cell_type": "markdown",
      "metadata": {
        "id": "wymTcuUILKPl",
        "colab_type": "text"
      },
      "source": [
        "# Question Seven\n",
        "The feature with missing values falls under what category? What missing value imputation technique would you use?"
      ]
    },
    {
      "cell_type": "code",
      "metadata": {
        "id": "ep6V1SF8LMtd",
        "colab_type": "code",
        "colab": {
          "base_uri": "https://localhost:8080/",
          "height": 34
        },
        "outputId": "b941e638-7a79-4b4d-85b2-a988f92addab"
      },
      "source": [
        "# find the feature with missing values\n",
        "fuel_data.columns[fuel_data.isnull().any()]\n"
      ],
      "execution_count": 16,
      "outputs": [
        {
          "output_type": "execute_result",
          "data": {
            "text/plain": [
              "Index(['fuel_unit'], dtype='object')"
            ]
          },
          "metadata": {
            "tags": []
          },
          "execution_count": 16
        }
      ]
    },
    {
      "cell_type": "code",
      "metadata": {
        "id": "XlRnZnk5LWLJ",
        "colab_type": "code",
        "colab": {
          "base_uri": "https://localhost:8080/",
          "height": 52
        },
        "outputId": "f0bd6f63-6c24-4151-9bb2-d09ed8ba530e"
      },
      "source": [
        "# find the unique values in the feature to know the type of which category it falls under\n",
        "fuel_data.fuel_unit.unique()"
      ],
      "execution_count": 82,
      "outputs": [
        {
          "output_type": "execute_result",
          "data": {
            "text/plain": [
              "array(['ton', 'mcf', 'kgU', 'bbl', 'gramsU', nan, 'mwdth', 'mmbtu',\n",
              "       'mwhth', 'gal'], dtype=object)"
            ]
          },
          "metadata": {
            "tags": []
          },
          "execution_count": 82
        }
      ]
    },
    {
      "cell_type": "markdown",
      "metadata": {
        "id": "R7KpuPsmhyn_",
        "colab_type": "text"
      },
      "source": [
        "From the previous cell it can be seen that the feature contains categorical values. the mode imputation technique will be used to fill the missing data as shown in the cell below."
      ]
    },
    {
      "cell_type": "code",
      "metadata": {
        "id": "cAKg_2NRLbOE",
        "colab_type": "code",
        "colab": {}
      },
      "source": [
        "fuel_unit_mode = fuel_data.fuel_unit.mode()"
      ],
      "execution_count": 86,
      "outputs": []
    },
    {
      "cell_type": "code",
      "metadata": {
        "id": "nTnX3ZoVYgWM",
        "colab_type": "code",
        "colab": {}
      },
      "source": [
        "# fill the missing values with the features's mode\n",
        "fuel_data['fuel_unit'].fillna(fuel_unit_mode, inplace = True)"
      ],
      "execution_count": null,
      "outputs": []
    },
    {
      "cell_type": "markdown",
      "metadata": {
        "id": "GAMOwOvzLw76",
        "colab_type": "text"
      },
      "source": [
        "# Question 8\n",
        "Which of the features has the second and third lowest correlation with the Fuel Cost Per Unit Burned?"
      ]
    },
    {
      "cell_type": "markdown",
      "metadata": {
        "id": "FwaQySF7dZbN",
        "colab_type": "text"
      },
      "source": [
        "\n",
        "\n",
        "1. calculate the correlation of fuel cost per unit burnt against all other features.\n",
        "2. Sort the resulting series in ascending order. \n",
        "\n",
        "3.  select the features with the second and third lowest correlation\n",
        "\n"
      ]
    },
    {
      "cell_type": "code",
      "metadata": {
        "id": "l72U4m-8LyvA",
        "colab_type": "code",
        "colab": {
          "base_uri": "https://localhost:8080/",
          "height": 70
        },
        "outputId": "05e39301-2e41-4329-9f16-82c9471d9bdf"
      },
      "source": [
        "\n",
        "fuel_data.corr()['fuel_cost_per_unit_burned'].sort_values(ascending = True)[1:3]"
      ],
      "execution_count": 42,
      "outputs": [
        {
          "output_type": "execute_result",
          "data": {
            "text/plain": [
              "fuel_qty_burned       -0.018535\n",
              "fuel_mmbtu_per_unit   -0.010034\n",
              "Name: fuel_cost_per_unit_burned, dtype: float64"
            ]
          },
          "metadata": {
            "tags": []
          },
          "execution_count": 42
        }
      ]
    },
    {
      "cell_type": "markdown",
      "metadata": {
        "id": "p8hdrZkwMjiR",
        "colab_type": "text"
      },
      "source": [
        "# Question 9\n",
        "For the fuel type coal, what is the percentage change in the fuel cost per unit burned in 1998 compared to 1994"
      ]
    },
    {
      "cell_type": "code",
      "metadata": {
        "id": "ZATGyqlJMlrp",
        "colab_type": "code",
        "colab": {
          "base_uri": "https://localhost:8080/",
          "height": 34
        },
        "outputId": "2c0a324d-8ad7-4b2c-86d2-5842eadb914c"
      },
      "source": [
        "# get the columns with fuel type coal and report year 1994 and 1998\n",
        "\n",
        "coal_data_1998 = fuel_data.loc[(fuel_data.fuel_type_code_pudl == 'coal') & (fuel_data.report_year == 1998)]\n",
        "coal_data_1994 = fuel_data.loc[(fuel_data['fuel_type_code_pudl'] == 'coal') & (fuel_data['report_year'] == 1994)]\n",
        "\n",
        "# get the sum of the fuel cost per unit burned in 1998 and 1994\n",
        "coal_1994_sum = coal_data_1994.fuel_cost_per_unit_burned.sum()\n",
        "coal_1998_sum = coal_data_1998.fuel_cost_per_unit_burned.sum()\n",
        "\n",
        "# calculate the percentage change in the fuel cost per unit burnt between 1998 compared to 1994\n",
        "percentage = (coal_1998_sum - coal_1994_sum) / coal_1994_sum * 100\n",
        "\n",
        "print(\"percentage change in the fuel cost per unit burned in 1998 compared to 1994: {}%\" .format(round(percentage)))\n"
      ],
      "execution_count": 93,
      "outputs": [
        {
          "output_type": "stream",
          "text": [
            "percentage change in the fuel cost per unit burned in 1998 compared to 1994: -21.0%\n"
          ],
          "name": "stdout"
        }
      ]
    },
    {
      "cell_type": "markdown",
      "metadata": {
        "id": "_kRnCLozM0Pg",
        "colab_type": "text"
      },
      "source": [
        "# Question 10\n",
        "Which year has the highest average fuel cost per unit delivered?"
      ]
    },
    {
      "cell_type": "markdown",
      "metadata": {
        "id": "XsAsKgfids6V",
        "colab_type": "text"
      },
      "source": [
        "\n",
        "\n",
        "\n",
        "\n",
        "\n",
        "1. Group the fuel data by report year\n",
        "2. Get the fuel cost per unit delivered and calculate the mean.\n",
        "3. Sort the resulting series in descending order and select the first row\n",
        "\n"
      ]
    },
    {
      "cell_type": "code",
      "metadata": {
        "id": "DdYutm7-M2Fw",
        "colab_type": "code",
        "colab": {
          "base_uri": "https://localhost:8080/",
          "height": 70
        },
        "outputId": "60fb0c86-6693-4f66-eaae-fa9cbcec28ff"
      },
      "source": [
        "fuel_data.groupby('report_year')['fuel_cost_per_unit_delivered'].mean().sort_values(ascending =False)[:1]"
      ],
      "execution_count": 19,
      "outputs": [
        {
          "output_type": "execute_result",
          "data": {
            "text/plain": [
              "report_year\n",
              "1997    11140.197239\n",
              "Name: fuel_cost_per_unit_delivered, dtype: float64"
            ]
          },
          "metadata": {
            "tags": []
          },
          "execution_count": 19
        }
      ]
    },
    {
      "cell_type": "code",
      "metadata": {
        "id": "f5FRDZckir4J",
        "colab_type": "code",
        "colab": {}
      },
      "source": [
        ""
      ],
      "execution_count": null,
      "outputs": []
    }
  ]
}